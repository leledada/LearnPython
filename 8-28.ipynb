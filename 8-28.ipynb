{
 "cells": [
  {
   "cell_type": "code",
   "execution_count": 1,
   "metadata": {},
   "outputs": [
    {
     "name": "stdout",
     "output_type": "stream",
     "text": [
      "hello\n"
     ]
    }
   ],
   "source": [
    "print('hello')"
   ]
  },
  {
   "cell_type": "code",
   "execution_count": 2,
   "metadata": {},
   "outputs": [
    {
     "name": "stdout",
     "output_type": "stream",
     "text": [
      "hello world\n"
     ]
    }
   ],
   "source": [
    "print('hello world')"
   ]
  },
  {
   "cell_type": "code",
   "execution_count": 1,
   "metadata": {},
   "outputs": [
    {
     "name": "stdout",
     "output_type": "stream",
     "text": [
      "{'rating': {'max': 10, 'average': '9.6', 'numRaters': 1167664, 'min': 0}, 'author': [{'name': '陈凯歌 Kaige Chen'}], 'alt_title': '再见，我的妾', 'image': 'https://img3.doubanio.com/view/photo/s_ratio_poster/public/p2561716440.jpg', 'title': '霸王别姬', 'summary': '段小楼（张丰毅）与程蝶衣（张国荣）是一对打小一起长大的师兄弟，两人一个演生，一个饰旦，一向配合天衣无缝，尤其一出《霸王别姬》，更是誉满京城，为此，两人约定合演一辈子《霸王别姬》。但两人对戏剧与人生关系的理解有本质不同，段小楼深知戏非人生，程蝶衣则是人戏不分。\\n段小楼在认为该成家立业之时迎娶了名妓菊仙（巩俐），致使程蝶衣认定菊仙是可耻的第三者，使段小楼做了叛徒，自此，三人围绕一出《霸王别姬》生出的爱恨情仇战开始随着时代风云的变迁不断升级，终酿成悲剧。', 'attrs': {'language': ['汉语普通话'], 'pubdate': ['1993-01-01(中国香港)'], 'title': ['霸王别姬'], 'country': ['中国大陆', '中国香港'], 'writer': ['芦苇 Wei Lu', '李碧华 Lillian Lee'], 'director': ['陈凯歌 Kaige Chen'], 'cast': ['张国荣 Leslie Cheung', '张丰毅 Fengyi Zhang', '巩俐 Li Gong', '葛优 You Ge', '英达 Da Ying', '蒋雯丽 Wenli Jiang', '吴大维 David Wu', '吕齐 Qi Lü', '雷汉 Han Lei', '尹治 Zhi Yin', '马明威 Mingwei Ma', '费振翔 Zhenxiang Fei', '智一桐 Yitong Zhi', '李春 Chun Li', '赵海龙 Hailong Zhao', '李丹 Dan Li', '童弟 Di Tong', '沈慧芬 Huifen Shen', '黄斐 Fei Huang'], 'movie_duration': ['171 分钟'], 'year': ['1993'], 'movie_type': ['剧情', '爱情', '同性']}, 'id': 'https://api.douban.com/movie/1291546', 'mobile_link': 'https://m.douban.com/movie/subject/1291546/', 'alt': 'https://movie.douban.com/movie/1291546', 'tags': [{'count': 190837, 'name': '经典'}, {'count': 112176, 'name': '人性'}, {'count': 104846, 'name': '文艺'}, {'count': 97735, 'name': '爱情'}, {'count': 86901, 'name': '人生'}, {'count': 70803, 'name': '同志'}, {'count': 65423, 'name': '剧情'}, {'count': 59525, 'name': '文革'}]}\n"
     ]
    }
   ],
   "source": [
    "import requests\n",
    "url=' https://api.douban.com/v2/movie/1291546?apikey=0df993c66c0c636e29ecbb5344252a4a'\n",
    "r = requests.get(url)\n",
    "jsonStr=r.json()\n",
    "print(jsonStr)"
   ]
  },
  {
   "cell_type": "code",
   "execution_count": 3,
   "metadata": {},
   "outputs": [
    {
     "name": "stdout",
     "output_type": "stream",
     "text": [
      "https://img3.doubanio.com/view/photo/s_ratio_poster/public/p2561716440.jpg\n"
     ]
    }
   ],
   "source": [
    "pic_url=jsonStr['image']\n",
    "print(pic_url)"
   ]
  },
  {
   "cell_type": "code",
   "execution_count": 4,
   "metadata": {},
   "outputs": [],
   "source": [
    "pic=requests.get(pic_url)\n",
    "with open('Bawang.jpg','wb') as file:\n",
    "    file.write(pic.content)"
   ]
  },
  {
   "cell_type": "code",
   "execution_count": null,
   "metadata": {},
   "outputs": [],
   "source": []
  }
 ],
 "metadata": {
  "kernelspec": {
   "display_name": "Python 3",
   "language": "python",
   "name": "python3"
  },
  "language_info": {
   "codemirror_mode": {
    "name": "ipython",
    "version": 3
   },
   "file_extension": ".py",
   "mimetype": "text/x-python",
   "name": "python",
   "nbconvert_exporter": "python",
   "pygments_lexer": "ipython3",
   "version": "3.6.4"
  }
 },
 "nbformat": 4,
 "nbformat_minor": 2
}
